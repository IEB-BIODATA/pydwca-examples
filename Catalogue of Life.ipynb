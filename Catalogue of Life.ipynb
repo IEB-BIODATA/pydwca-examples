{
 "cells": [
  {
   "cell_type": "markdown",
   "id": "27c9cfa3-2db8-4e16-807d-25dcf3d2c439",
   "metadata": {},
   "source": [
    "<table style=\"width: 100%;\">\n",
    "    <tr>\n",
    "        <td><a href=\"https://ieb-chile.cl/en/\" target=\"_blank\"><img src=\"https://raw.githubusercontent.com/IEB-BIODATA/pydwca-examples/main/images/logo/IEB.png\" style=\"height: 100px;\"></a</td>\n",
    "        <td></td>\n",
    "        <td><img src=\"https://raw.githubusercontent.com/IEB-BIODATA/pydwca-examples/main/images/logo/Biodata.png\" style=\"height: 100px;\"></td>\n",
    "    </tr>\n",
    "</table>"
   ]
  },
  {
   "cell_type": "markdown",
   "id": "8bf22dad-46d8-4ef5-97e9-eaec38d06428",
   "metadata": {},
   "source": [
    "# Catalogue Of Life\n",
    "\n",
    "A usage example of the `PyDwCA` library, reading the DwC-A of Catalogue of Life."
   ]
  },
  {
   "cell_type": "markdown",
   "id": "f2be4b92-fbba-4493-8ac6-5469c785ec69",
   "metadata": {},
   "source": [
    "Reading the [Catalogue of Life](https://www.catalogueoflife.org/data/download):"
   ]
  },
  {
   "cell_type": "code",
   "execution_count": 1,
   "id": "ab9f7e6d-0de9-4cd4-9478-417af5dfed78",
   "metadata": {},
   "source": [
    "import os\n",
    "import pandas as pd\n",
    "os.makedirs(\"data\", exist_ok=True)"
   ],
   "outputs": []
  },
  {
   "cell_type": "code",
   "execution_count": 2,
   "id": "43c83f6e-00ce-45e4-9f2b-eb86bfd926e1",
   "metadata": {},
   "source": [
    "\"!wget https://download.catalogueoflife.org/col/annual/2023_dwca.zip -O data/col-dwca.zip\""
   ],
   "outputs": []
  },
  {
   "cell_type": "code",
   "execution_count": 3,
   "id": "211480e7-d73d-4a93-8c7e-3ec561b88664",
   "metadata": {},
   "source": [
    "from dwca import DarwinCoreArchive"
   ],
   "outputs": []
  },
  {
   "cell_type": "code",
   "execution_count": 4,
   "id": "13ffc68c-3852-4495-aaa0-b83cb2bb29d8",
   "metadata": {
    "scrolled": true
   },
   "source": [
    "col = DarwinCoreArchive.from_file(\"data/col-dwca.zip\")"
   ],
   "outputs": []
  },
  {
   "cell_type": "code",
   "execution_count": 5,
   "id": "22339416-0b52-47f4-bf4a-5de6d699826c",
   "metadata": {},
   "source": [
    "print(col)"
   ],
   "outputs": []
  },
  {
   "cell_type": "code",
   "execution_count": 6,
   "id": "9d346fc0-bc70-4029-bf24-88ed83c548b9",
   "metadata": {},
   "source": [
    "taxon = col.core\n",
    "taxon.pandas"
   ],
   "outputs": []
  },
  {
   "cell_type": "markdown",
   "id": "fd575192-3cce-4726-97bf-f453fd98e632",
   "metadata": {},
   "source": [
    "## Exploring this `DataFrame`"
   ]
  },
  {
   "cell_type": "code",
   "execution_count": 7,
   "id": "73a1262b-edde-48d9-964a-256d799c499c",
   "metadata": {},
   "source": [
    "taxon.pandas.groupby(\"taxonRank\").size()"
   ],
   "outputs": []
  },
  {
   "cell_type": "code",
   "execution_count": 8,
   "id": "3ef38ef3-9bee-4657-a36a-45daa3c0ded5",
   "metadata": {},
   "source": [
    "taxon.pandas.groupby([\"taxonRank\", \"taxonomicStatus\"]).size().unstack(fill_value=0)"
   ],
   "outputs": []
  },
  {
   "cell_type": "markdown",
   "id": "c0b3afc4-29a9-4c00-a205-8b204a7f50e3",
   "metadata": {},
   "source": [
    "Because we use the `\"acceptedNameUsageID\"` to find synonyms, we are going to fill this columns for all the `\"accepted\"` taxa with its own `\"taxonID\"`:"
   ]
  },
  {
   "cell_type": "code",
   "execution_count": 9,
   "id": "a7ef5316-05bb-449e-b836-2ea674eac22a",
   "metadata": {},
   "source": [
    "accepted_mask = taxon.pandas[\"taxonomicStatus\"].str.contains(\"accepted\")\n",
    "taxon.pandas.loc[\n",
    "    taxon.pandas[accepted_mask].index, \"acceptedNameUsageID\"\n",
    "] = taxon.pandas[accepted_mask][\"taxonID\"]\n",
    "taxon.pandas"
   ],
   "outputs": []
  },
  {
   "cell_type": "markdown",
   "id": "1ee8b115-4a18-4b2c-ab49-57edd7a0028c",
   "metadata": {},
   "source": [
    "We also need the `\"parentNameUsageID\"` of synonyms, which is necessary the same as the `\"acceptedNameUsageID\"`. We complete this field as well:"
   ]
  },
  {
   "cell_type": "code",
   "execution_count": 10,
   "id": "e90d8ed2-c1ce-4be4-a9a8-8153904a837b",
   "metadata": {},
   "source": [
    "missing_parent = taxon.pandas[(taxon.pandas[\"parentNameUsageID\"] == \"\") | pd.isna(taxon.pandas[\"parentNameUsageID\"])]\n",
    "parent2fill = missing_parent[[\"taxonID\", \"acceptedNameUsageID\"]].merge(\n",
    "    taxon.pandas[[\"taxonID\", \"parentNameUsageID\"]],\n",
    "    how=\"left\",\n",
    "    left_on=\"acceptedNameUsageID\",\n",
    "    right_on=\"taxonID\",\n",
    ")\n",
    "parent2fill.index = missing_parent.index\n",
    "taxon.pandas.loc[missing_parent.index, \"parentNameUsageID\"] = parent2fill.loc[parent2fill.index, \"parentNameUsageID\"]\n",
    "taxon.pandas"
   ],
   "outputs": []
  },
  {
   "cell_type": "markdown",
   "id": "87298a5e-c219-47f7-9e1f-db40c1ebb085",
   "metadata": {},
   "source": [
    "Checking one extension"
   ]
  },
  {
   "cell_type": "code",
   "execution_count": 11,
   "id": "9ba7647e-5320-4841-bba5-5a3230049538",
   "metadata": {},
   "source": [
    "col.extensions[0].pandas"
   ],
   "outputs": []
  },
  {
   "cell_type": "markdown",
   "id": "8187a08a-3673-43f8-ab71-fa7aaab9a66b",
   "metadata": {},
   "source": [
    "## Filter chilean species\n",
    "\n",
    "We are going to filter the species reported in the DwC-A of the COL that are in Chile. To do that, we are going to use a list of the chilean species obtained in [this notebook](<GBIF Chile Species.ipynb>)."
   ]
  },
  {
   "cell_type": "code",
   "execution_count": 12,
   "id": "644fc86e-ec75-43b4-b7a8-6be822adad0e",
   "metadata": {},
   "source": [
    "chilean_species = pd.read_csv(\"data/chilean_species.tsv\", sep=\"\\t\", header=0)\n",
    "chilean_species"
   ],
   "outputs": []
  },
  {
   "cell_type": "code",
   "execution_count": 13,
   "id": "5e134224-a0e7-4668-802f-ea3d7695bc32",
   "metadata": {},
   "source": [
    "chilean_species.groupby(\"taxonRank\").size()"
   ],
   "outputs": []
  },
  {
   "cell_type": "code",
   "execution_count": 14,
   "id": "3a2b51cf-05bf-4a5d-8ec0-02c726b74752",
   "metadata": {},
   "source": [
    "chilean_species.groupby([\"taxonRank\", \"taxonomicStatus\"]).size().unstack(fill_value=0)"
   ],
   "outputs": []
  },
  {
   "cell_type": "markdown",
   "id": "97150273-df46-46a5-a493-5ed6c50d3821",
   "metadata": {},
   "source": [
    "We take advantage of the [`filter_by_species`](https://pydwca.readthedocs.io/en/latest/dwca.classes.html#dwca.classes.taxon.Taxon.filter_by_species) method of the `Taxon` class of PyDwCA library. This will left all species in a list, its synonyms and taxa parent."
   ]
  },
  {
   "cell_type": "code",
   "execution_count": 15,
   "id": "95082df5-2f04-461a-9848-d0a3e13679bf",
   "metadata": {},
   "source": [
    "taxon.filter_by_species(chilean_species[\"scientificName\"])\n",
    "taxon.pandas"
   ],
   "outputs": []
  },
  {
   "cell_type": "markdown",
   "id": "18aca260-9e5d-4022-a2e7-16a7fd5d6b57",
   "metadata": {},
   "source": [
    "And check one extension to see is the filter propagates:"
   ]
  },
  {
   "cell_type": "code",
   "execution_count": 16,
   "id": "2f39a4ec-7060-42ac-9f0b-ba8933664ac2",
   "metadata": {},
   "source": [
    "col.extensions[0].pandas"
   ],
   "outputs": []
  },
  {
   "cell_type": "markdown",
   "id": "906f6e26-5094-4cb6-b241-d464ea8ff876",
   "metadata": {},
   "source": [
    "### Adding needed fields\n",
    "\n",
    "We need more fields in this dataset, so we are going to added using the [`add_field`]() method."
   ]
  },
  {
   "cell_type": "code",
   "execution_count": 17,
   "id": "5d53f60d-06d4-4b24-89a6-fc48b98e3d86",
   "metadata": {},
   "source": [
    "from tqdm import tqdm"
   ],
   "outputs": []
  },
  {
   "cell_type": "code",
   "execution_count": 18,
   "id": "044f7150-478c-497c-8f53-72d9d5c9c9ce",
   "metadata": {},
   "source": [
    "taxon.fields"
   ],
   "outputs": []
  },
  {
   "cell_type": "code",
   "execution_count": 19,
   "id": "5c849804-991c-47d1-a36e-3903858096b6",
   "metadata": {},
   "source": [
    "from dwca.terms import Kingdom, Phylum, DWCClass, Order, Family, Genus\n",
    "\n",
    "taxon.add_field(Kingdom(index=22))\n",
    "taxon.add_field(Phylum(index=23))\n",
    "taxon.add_field(DWCClass(index=24))\n",
    "taxon.add_field(Order(index=25))\n",
    "taxon.add_field(Family(index=26))\n",
    "taxon.add_field(Genus(index=27))"
   ],
   "outputs": []
  },
  {
   "cell_type": "code",
   "execution_count": 20,
   "id": "4388db99-85ed-4599-a74c-8500b46951f4",
   "metadata": {},
   "source": [
    "taxon.fields"
   ],
   "outputs": []
  },
  {
   "cell_type": "code",
   "execution_count": 21,
   "id": "3e336048-6693-4a7d-a4ad-8c721e8cec53",
   "metadata": {},
   "source": [
    "taxon_df = taxon.pandas\n",
    "taxon_df"
   ],
   "outputs": []
  },
  {
   "cell_type": "markdown",
   "id": "889ad6b9-7147-4455-bb12-d0a647ba96d5",
   "metadata": {},
   "source": [
    "And, we are going to take advantage of the pandas `DataFrame` to implement an algorithm that are going to populate those field. The idea is:\n",
    "1. Find taxonRank corresponding to the field, e.g. `\"kindgom\"` for `Kingdom`.\n",
    "2. All child taxa of this has the `\"scientificName\"` found as that field. Child taxa are the taxa in with `\"parentNameUsageID\"` is the taxa found.\n",
    "3. Child of the above has also  that `\"scientificName\"` as the field.\n",
    "4. Repeat until there are no more childs."
   ]
  },
  {
   "cell_type": "code",
   "execution_count": 34,
   "id": "8d4bf7f9-e246-4ef9-bbc8-01581dee78ae",
   "metadata": {},
   "source": [
    "def fill_taxa(df: pd.DataFrame, rank_name: str, to_print: bool = True) -> None:\n",
    "    ranks = taxon_df[taxon_df[\"taxonRank\"] == rank_name][\"scientificName\"]\n",
    "    if to_print:\n",
    "        print(ranks)\n",
    "    else:\n",
    "        bar_progress = tqdm(f\"Working with {rank_name}: {ranks.iloc[0]}\", total=len(ranks))\n",
    "    for rank in ranks:\n",
    "        total = len(taxon_df)\n",
    "        if to_print:\n",
    "            bar_progress = tqdm(desc=f\"Working with {rank_name}: {rank}\", total=total)\n",
    "        else:\n",
    "            bar_progress.set_description(f\"Working with {rank_name}: {rank}\", refresh=False)\n",
    "        posfix = dict()\n",
    "        childs = taxon_df[\n",
    "            (taxon_df[\"taxonRank\"] == rank_name) &\n",
    "            (taxon_df[\"scientificName\"] == rank)\n",
    "        ]\n",
    "        while(len(childs) > 0):\n",
    "            taxon_df.loc[childs.index, rank_name] = rank\n",
    "            total -= len(childs)\n",
    "            if to_print:\n",
    "                bar_progress.update(n=len(childs))\n",
    "            taxa = childs[\"taxonID\"]\n",
    "            posfix[\"Working with ranks\"] = \", \".join([str(rank) for rank in pd.unique(childs[\"taxonRank\"])])\n",
    "            bar_progress.set_postfix(ordered_dict=posfix, refresh=to_print)\n",
    "            childs = taxon_df[taxon_df[\"parentNameUsageID\"].isin(taxa)]\n",
    "            synonyms = taxon.all_synonyms(childs[\"taxonID\"])\n",
    "            childs = taxon_df[\n",
    "                (taxon_df[\"parentNameUsageID\"].isin(taxa)) |\n",
    "                (taxon_df[\"taxonID\"].isin(synonyms))\n",
    "            ]\n",
    "        if to_print:\n",
    "            bar_progress.update(n=total)\n",
    "            bar_progress.close()\n",
    "        else:\n",
    "            bar_progress.update(n=1)\n",
    "    if not to_print:\n",
    "        bar_progress.close()\n",
    "    return"
   ],
   "outputs": []
  },
  {
   "cell_type": "code",
   "execution_count": 23,
   "id": "3b365804-25cd-45ab-abc6-75a539181972",
   "metadata": {},
   "source": [
    "fill_taxa(taxon_df, \"kingdom\")\n",
    "taxon_df"
   ],
   "outputs": []
  },
  {
   "cell_type": "code",
   "execution_count": 24,
   "id": "b01cfefa-3850-4851-a73d-e6b300e35151",
   "metadata": {},
   "source": [
    "fill_taxa(taxon_df, \"phylum\")\n",
    "taxon_df"
   ],
   "outputs": []
  },
  {
   "cell_type": "code",
   "execution_count": 35,
   "id": "783ef203-a1bb-4812-a08c-dc089c988a66",
   "metadata": {},
   "source": [
    "fill_taxa(taxon_df, \"class\", to_print=False)\n",
    "taxon_df"
   ],
   "outputs": []
  },
  {
   "cell_type": "code",
   "execution_count": 36,
   "id": "62b98ec1-9d6a-4751-ae5b-c9fd67ba033d",
   "metadata": {},
   "source": [
    "fill_taxa(taxon_df, \"order\", to_print=False)\n",
    "taxon_df"
   ],
   "outputs": []
  },
  {
   "cell_type": "code",
   "execution_count": 37,
   "id": "f92933fe-7ca2-4115-8d95-e3644ebc266d",
   "metadata": {},
   "source": [
    "fill_taxa(taxon_df, \"family\", to_print=False)\n",
    "taxon_df"
   ],
   "outputs": []
  },
  {
   "cell_type": "code",
   "execution_count": 38,
   "id": "730d0550-f2cc-43b7-9e15-b3b1b0b1c6a9",
   "metadata": {},
   "source": [
    "fill_taxa(taxon_df, \"genus\", to_print=False)\n",
    "taxon_df"
   ],
   "outputs": []
  },
  {
   "cell_type": "code",
   "execution_count": 39,
   "id": "0d850d93-6bb4-45b2-9d33-f22faa847291",
   "metadata": {},
   "source": [
    "taxon.pandas = taxon_df\n",
    "print(col)\n",
    "print(col.extensions)"
   ],
   "outputs": []
  },
  {
   "cell_type": "markdown",
   "id": "9bd20407-0f87-46a8-bcbe-ee1a59e2058c",
   "metadata": {},
   "source": [
    "We save this modified archive as [`chilean-col.zip`](data/chilean-col.zip)"
   ]
  },
  {
   "cell_type": "code",
   "execution_count": 40,
   "id": "47b73688-70cf-485d-b9f2-a7167e655f6f",
   "metadata": {},
   "source": [
    "col.to_file(\"data/chilean-col.zip\")"
   ],
   "outputs": []
  },
  {
   "cell_type": "code",
   "execution_count": 41,
   "id": "64047a1d-2be7-4373-b4fc-fcbbad2414d6",
   "metadata": {},
   "source": [
    "del col"
   ],
   "outputs": []
  },
  {
   "cell_type": "markdown",
   "id": "9d659060-8e3e-4665-87bb-4c3c76aac030",
   "metadata": {},
   "source": [
    "## Extracting species"
   ]
  },
  {
   "cell_type": "markdown",
   "id": "1171c740-b64b-4848-ad79-c4644900e2ca",
   "metadata": {},
   "source": [
    "For our pipeline, we need to extract the tracheophytas. First, we check if this is directly on the dataset. We start reading the Darwin Core Archive generated on the previous step:"
   ]
  },
  {
   "cell_type": "code",
   "execution_count": 4,
   "id": "1cc68e8a-cb34-4ce5-b410-b540b087108b",
   "metadata": {},
   "source": [
    "chilean_col = DarwinCoreArchive.from_file(\"data/chilean-col.zip\")"
   ],
   "outputs": []
  },
  {
   "cell_type": "code",
   "execution_count": 5,
   "id": "e74e83ab-5720-4b72-961a-ff1d33986891",
   "metadata": {},
   "source": [
    "taxon = chilean_col.core\n",
    "taxon.pandas"
   ],
   "outputs": []
  },
  {
   "cell_type": "code",
   "execution_count": 6,
   "id": "086a079c-4ef1-4ed1-92ea-15cfb90dbbed",
   "metadata": {},
   "source": [
    "taxon.pandas[taxon.pandas[\"scientificName\"].str.lower() == \"tracheophyta\"]"
   ],
   "outputs": []
  },
  {
   "cell_type": "code",
   "execution_count": 8,
   "id": "67853a49-0d03-4de0-9870-1adfdd4f4ad8",
   "metadata": {},
   "source": [
    "taxon.pandas.groupby(\"phylum\").size()"
   ],
   "outputs": []
  },
  {
   "cell_type": "code",
   "execution_count": 9,
   "id": "41f3d3e9-7e5f-48d2-b313-8de768673c07",
   "metadata": {},
   "source": [
    "taxon.pandas[taxon.pandas[\"phylum\"] == \"Tracheophyta\"]"
   ],
   "outputs": []
  },
  {
   "cell_type": "code",
   "execution_count": 10,
   "id": "71d28448-f4e0-4736-ae4c-be7255eb4323",
   "metadata": {},
   "source": [
    "taxon.pandas[taxon.pandas[\"phylum\"] == \"Tracheophyta\"].groupby(\"class\").size()"
   ],
   "outputs": []
  },
  {
   "cell_type": "markdown",
   "id": "092b02e4-96ad-4c8b-8825-cdb2bfa05da2",
   "metadata": {},
   "source": [
    "Due to Tracheophyta is a phylum, we can extract all phylum except this one:"
   ]
  },
  {
   "cell_type": "code",
   "execution_count": 45,
   "id": "7e19e4c2-4811-4883-9604-75b92ea0bf08",
   "metadata": {},
   "source": [
    "taxon.fields"
   ],
   "outputs": []
  },
  {
   "cell_type": "code",
   "execution_count": 48,
   "id": "aa21e48b-36b3-4657-8651-fa8bf10ccf02",
   "metadata": {},
   "source": [
    "found_phyla = pd.unique(taxon.pandas[\"phylum\"])\n",
    "found_phyla"
   ],
   "outputs": []
  },
  {
   "cell_type": "code",
   "execution_count": 49,
   "id": "71afefb1-34aa-407c-b958-14742aa93301",
   "metadata": {},
   "source": [
    "found_phyla = list(found_phyla)\n",
    "found_phyla.remove(\"\")\n",
    "found_phyla.remove(\"Tracheophyta\")\n",
    "found_phyla"
   ],
   "outputs": []
  },
  {
   "cell_type": "code",
   "execution_count": 50,
   "id": "98a307f8-700f-487d-88a6-83f6b7a9c4b3",
   "metadata": {},
   "source": [
    "taxon.filter_by_phylum(found_phyla)\n",
    "taxon.pandas"
   ],
   "outputs": []
  },
  {
   "cell_type": "code",
   "execution_count": 54,
   "id": "47c4817a-c649-4e77-8840-44cc35a84a22",
   "metadata": {},
   "source": [
    "print(chilean_col)\n",
    "for extension in chilean_col.extensions:\n",
    "    print(extension)"
   ],
   "outputs": []
  },
  {
   "cell_type": "code",
   "execution_count": 52,
   "id": "8bc9f8d7-e47e-4290-9094-d2854561949f",
   "metadata": {},
   "source": [
    "chilean_col.to_file(\"data/chilean_col_var.zip\")"
   ],
   "outputs": []
  },
  {
   "cell_type": "code",
   "execution_count": null,
   "id": "0d52636a-7ab4-4490-bbc9-3325d2953757",
   "metadata": {},
   "source": [],
   "outputs": []
  },
  {
   "cell_type": "markdown",
   "id": "f14418da-e6f0-4441-b699-d0ae8bd070b4",
   "metadata": {},
   "source": [
    "<table>\n",
    "    <tr>\n",
    "        <td colspan=\"3\" style=\"text-align: center;\"><p>BIODATA - <a href=\"https://ieb-chile.cl/en/\" target=\"_blank\">Institute of Ecology and Biodiversity</a> © 2024</p></td>\n",
    "    </tr>\n",
    "</table>"
   ]
  }
 ],
 "metadata": {
  "kernelspec": {
   "display_name": "Python 3 (ipykernel)",
   "language": "python",
   "name": "python3"
  },
  "language_info": {
   "codemirror_mode": {
    "name": "ipython",
    "version": 3
   },
   "file_extension": ".py",
   "mimetype": "text/x-python",
   "name": "python",
   "nbconvert_exporter": "python",
   "pygments_lexer": "ipython3",
   "version": "3.11.8"
  }
 },
 "nbformat": 4,
 "nbformat_minor": 5
}
