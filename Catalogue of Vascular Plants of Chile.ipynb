{
 "cells": [
  {
   "cell_type": "markdown",
   "id": "cda1c71d18237ccd",
   "metadata": {},
   "source": [
    "<table style=\"width: 100%;\">\n",
    "    <tr>\n",
    "        <td><a href=\"https://ieb-chile.cl/en/\" target=\"_blank\"><img src=\"https://raw.githubusercontent.com/IEB-BIODATA/pydwca-examples/main/images/logo/IEB.png\" style=\"height: 100px;\"></a</td>\n",
    "        <td></td>\n",
    "        <td><img src=\"https://raw.githubusercontent.com/IEB-BIODATA/pydwca-examples/main/images/logo/Biodata.png\" style=\"height: 100px;\"></td>\n",
    "    </tr>\n",
    "</table>"
   ]
  },
  {
   "cell_type": "markdown",
   "id": "784866ca292e4f83",
   "metadata": {},
   "source": [
    "# Catalogue of Vascular Plats of Chile\n",
    "\n",
    "A usage example of the `PyDwCA` library, writing a DwC-A from a database of biodiversity data."
   ]
  },
  {
   "cell_type": "markdown",
   "id": "1647c89bb0d957c1",
   "metadata": {},
   "source": [
    "> _Note_: This notebook works directly with the database of the [Digital Herbarium of Chile](https://herbariodigital.cl/), therefore, this code is not replicable, but it is presented as an example for the generation of a DwC-A file using previous populated data."
   ]
  },
  {
   "cell_type": "code",
   "execution_count": 1,
   "id": "5636db6c5fe7fee1",
   "metadata": {
    "ExecuteTime": {
     "end_time": "2024-07-26T15:02:40.839223Z",
     "start_time": "2024-07-26T15:02:40.032730Z"
    }
   },
   "outputs": [],
   "source": [
    "import os\n",
    "import pyscopg2\n",
    "import pandas as pd\n",
    "from dotenv import load_dotenv"
   ]
  },
  {
   "cell_type": "code",
   "execution_count": 2,
   "id": "7bf0af3173cd36e6",
   "metadata": {
    "ExecuteTime": {
     "end_time": "2024-07-26T15:02:41.699711Z",
     "start_time": "2024-07-26T15:02:41.688616Z"
    }
   },
   "outputs": [
    {
     "name": "stdout",
     "output_type": "stream",
     "text": [
      "Loaded\n"
     ]
    }
   ],
   "source": [
    "if load_dotenv():\n",
    "    print(\"Loaded\")\n",
    "else:\n",
    "    print(\"Something went wrong\")"
   ]
  },
  {
   "cell_type": "markdown",
   "id": "48ea10c9597c2d4a",
   "metadata": {},
   "source": [
    "## Populating EML\n",
    "\n",
    "Here we generate an EML metadata file with the needed information."
   ]
  },
  {
   "cell_type": "code",
   "execution_count": 3,
   "id": "59edda25449fa736",
   "metadata": {
    "ExecuteTime": {
     "end_time": "2024-07-26T15:15:03.704036Z",
     "start_time": "2024-07-26T15:15:03.594619Z"
    }
   },
   "outputs": [],
   "source": [
    "from dwca import DarwinCoreArchive\n",
    "from eml.types import ResponsibleParty, OrganizationName, I18nString\n",
    "from xml_common.utils import Language"
   ]
  },
  {
   "cell_type": "code",
   "execution_count": 6,
   "id": "5320e205c801cb99",
   "metadata": {
    "ExecuteTime": {
     "end_time": "2024-07-26T15:18:19.618866Z",
     "start_time": "2024-07-26T15:18:19.615670Z"
    }
   },
   "outputs": [],
   "source": [
    "catalogue = DarwinCoreArchive(\"Catalogue of Vascular Plants of Chile\")\n",
    "catalogue.generate_eml()"
   ]
  },
  {
   "cell_type": "code",
   "execution_count": 7,
   "id": "5dcdff74cac344e1",
   "metadata": {
    "ExecuteTime": {
     "end_time": "2024-07-26T15:19:03.810192Z",
     "start_time": "2024-07-26T15:19:03.804006Z"
    }
   },
   "outputs": [
    {
     "data": {
      "text/plain": [
       "<XMLObject tag=eml>"
      ]
     },
     "execution_count": 7,
     "metadata": {},
     "output_type": "execute_result"
    }
   ],
   "source": [
    "catalogue.metadata.add_title(\"Catalogue of Vascular Plants of Chile\")\n",
    "catalogue.metadata.add_creator(\n",
    "    ResponsibleParty(\n",
    "        organization_name=OrganizationName(I18nString(\"Departamento de Botánica, Facultad de Ciencias Naturales y Oceanográficas, Universidad de Concepción\", Language.ESP)),\n",
    "    )\n",
    ")"
   ]
  },
  {
   "cell_type": "markdown",
   "id": "577b54531215642",
   "metadata": {},
   "source": [
    "## Standardizing Data\n",
    "\n",
    "Processing the data to meet the Darwin Core standard."
   ]
  },
  {
   "cell_type": "code",
   "execution_count": null,
   "id": "1ac860f44ebefa8b",
   "metadata": {},
   "outputs": [],
   "source": []
  },
  {
   "cell_type": "markdown",
   "id": "879dfb881d664df3",
   "metadata": {},
   "source": [
    "<table>\n",
    "    <tr>\n",
    "        <td colspan=\"3\" style=\"text-align: center;\"><p>BIODATA - <a href=\"https://ieb-chile.cl/en/\" target=\"_blank\">Institute of Ecology and Biodiversity</a> © 2024</p></td>\n",
    "    </tr>\n",
    "</table>"
   ]
  },
  {
   "cell_type": "code",
   "execution_count": null,
   "id": "9b565f4c786a4933",
   "metadata": {},
   "outputs": [],
   "source": []
  }
 ],
 "metadata": {
  "kernelspec": {
   "display_name": "Python 3",
   "language": "python",
   "name": "python3"
  },
  "language_info": {
   "codemirror_mode": {
    "name": "ipython",
    "version": 2
   },
   "file_extension": ".py",
   "mimetype": "text/x-python",
   "name": "python",
   "nbconvert_exporter": "python",
   "pygments_lexer": "ipython2",
   "version": "2.7.6"
  }
 },
 "nbformat": 4,
 "nbformat_minor": 5
}
